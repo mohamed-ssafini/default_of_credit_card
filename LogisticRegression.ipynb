{
  "nbformat": 4,
  "nbformat_minor": 0,
  "metadata": {
    "colab": {
      "provenance": [],
      "mount_file_id": "1t9bLokY61bnlye9wF99iFxfG9IF_op6r",
      "authorship_tag": "ABX9TyN21W0RRA89l6r1wyp7di4H",
      "include_colab_link": true
    },
    "kernelspec": {
      "name": "python3",
      "display_name": "Python 3"
    },
    "language_info": {
      "name": "python"
    }
  },
  "cells": [
    {
      "cell_type": "markdown",
      "metadata": {
        "id": "view-in-github",
        "colab_type": "text"
      },
      "source": [
        "<a href=\"https://colab.research.google.com/github/mohamedssafini/default_of_credit_card/blob/main/LogisticRegression.ipynb\" target=\"_parent\"><img src=\"https://colab.research.google.com/assets/colab-badge.svg\" alt=\"Open In Colab\"/></a>"
      ]
    },
    {
      "cell_type": "markdown",
      "source": [
        "**Logistic Regression**"
      ],
      "metadata": {
        "id": "Q7cuTLSdUF5e"
      }
    },
    {
      "cell_type": "code",
      "execution_count": 1,
      "metadata": {
        "colab": {
          "base_uri": "https://localhost:8080/"
        },
        "id": "Joxg9w_-Sr0r",
        "outputId": "0c7392dd-0048-4f35-9a93-69ff4cb9a7a5"
      },
      "outputs": [
        {
          "output_type": "stream",
          "name": "stdout",
          "text": [
            "The Python version is 3.7.15 (default, Oct 12 2022, 19:14:55) \n",
            "[GCC 7.5.0].\n",
            "\n",
            "The Numpy version is 1.21.6.\n",
            "\n",
            "The Pandas version is 1.3.5.\n",
            "\n",
            "The Matplotlib version is 3.2.2.\n",
            "\n",
            "The Seaborn version is 0.11.2.\n",
            "\n",
            "The Scikit-Learn version is 1.0.2.\n",
            "\n"
          ]
        }
      ],
      "source": [
        "# Load packages and check versions\n",
        "import sys\n",
        "import numpy as np\n",
        "import pandas as pd\n",
        "import matplotlib as mpl\n",
        "import seaborn as sns\n",
        "import sklearn\n",
        "\n",
        "print('The Python version is {}.\\n'.format(sys.version))\n",
        "print('The Numpy version is {}.\\n'.format(np.__version__))\n",
        "print('The Pandas version is {}.\\n'.format(pd.__version__))\n",
        "print('The Matplotlib version is {}.\\n'.format(mpl.__version__))\n",
        "print('The Seaborn version is {}.\\n'.format(sns.__version__))\n",
        "print('The Scikit-Learn version is {}.\\n'.format(sklearn.__version__))"
      ]
    },
    {
      "cell_type": "code",
      "source": [
        "import numpy as np #numerical computation\n",
        "import pandas as pd #data wrangling\n",
        "import matplotlib.pyplot as plt #plotting package\n",
        "#Next line helps with rendering plots\n",
        "%matplotlib inline\n",
        "import matplotlib as mpl #add'l plotting functionality\n",
        "import seaborn as sns #a fancy plotting package\n",
        "mpl.rcParams['figure.dpi'] = 400 #high res figures"
      ],
      "metadata": {
        "id": "vqYY8nGITQV7"
      },
      "execution_count": 2,
      "outputs": []
    },
    {
      "cell_type": "code",
      "source": [
        "df = pd.read_csv('drive/MyDrive/Chapter_1_cleaned_data.csv')"
      ],
      "metadata": {
        "id": "SkLZgmZYTeOw"
      },
      "execution_count": 3,
      "outputs": []
    },
    {
      "cell_type": "code",
      "source": [
        "features_response = df.columns.tolist()"
      ],
      "metadata": {
        "id": "TUvOonDOTx-a"
      },
      "execution_count": 4,
      "outputs": []
    },
    {
      "cell_type": "code",
      "source": [
        "features_response[:5]"
      ],
      "metadata": {
        "colab": {
          "base_uri": "https://localhost:8080/"
        },
        "id": "Rph7Ro88U69W",
        "outputId": "8fb8545b-d5e1-4ff9-b5c0-64ebf96e89a7"
      },
      "execution_count": 5,
      "outputs": [
        {
          "output_type": "execute_result",
          "data": {
            "text/plain": [
              "['ID', 'LIMIT_BAL', 'SEX', 'EDUCATION', 'MARRIAGE']"
            ]
          },
          "metadata": {},
          "execution_count": 5
        }
      ]
    },
    {
      "cell_type": "code",
      "source": [
        "features_response[-5:]"
      ],
      "metadata": {
        "colab": {
          "base_uri": "https://localhost:8080/"
        },
        "id": "pyi4UIVlVFPf",
        "outputId": "c2ce25d9-1341-4d5c-8774-c85ec341a991"
      },
      "execution_count": 6,
      "outputs": [
        {
          "output_type": "execute_result",
          "data": {
            "text/plain": [
              "['EDUCATION_CAT', 'graduate school', 'high school', 'others', 'university']"
            ]
          },
          "metadata": {},
          "execution_count": 6
        }
      ]
    },
    {
      "cell_type": "code",
      "source": [
        "df['EDUCATION']"
      ],
      "metadata": {
        "colab": {
          "base_uri": "https://localhost:8080/"
        },
        "id": "Vsk4m4MkVKQk",
        "outputId": "a43833af-a9ee-4b59-a2c9-f1d85f178720"
      },
      "execution_count": 7,
      "outputs": [
        {
          "output_type": "execute_result",
          "data": {
            "text/plain": [
              "0        2\n",
              "1        2\n",
              "2        2\n",
              "3        2\n",
              "4        2\n",
              "        ..\n",
              "26659    3\n",
              "26660    3\n",
              "26661    2\n",
              "26662    3\n",
              "26663    2\n",
              "Name: EDUCATION, Length: 26664, dtype: int64"
            ]
          },
          "metadata": {},
          "execution_count": 7
        }
      ]
    },
    {
      "cell_type": "code",
      "source": [
        "items_to_remove = ['ID', 'SEX',\n",
        "                   'PAY_2', 'PAY_3', 'PAY_4', 'PAY_5', 'PAY_6',\n",
        "                   'EDUCATION_CAT',\n",
        "                   'graduate school', 'high school', 'none',\n",
        "                   'others', 'university']"
      ],
      "metadata": {
        "id": "Ts71sLvoXrFi"
      },
      "execution_count": 8,
      "outputs": []
    },
    {
      "cell_type": "code",
      "source": [
        "features_response = [item for item in features_response if item not in items_to_remove]"
      ],
      "metadata": {
        "id": "01NvHmKqY6fy"
      },
      "execution_count": 9,
      "outputs": []
    },
    {
      "cell_type": "code",
      "source": [
        "features_response"
      ],
      "metadata": {
        "colab": {
          "base_uri": "https://localhost:8080/"
        },
        "id": "daTTVsIYbl7D",
        "outputId": "46b8cf0a-2e19-4302-85c6-c6af92448f90"
      },
      "execution_count": 10,
      "outputs": [
        {
          "output_type": "execute_result",
          "data": {
            "text/plain": [
              "['LIMIT_BAL',\n",
              " 'EDUCATION',\n",
              " 'MARRIAGE',\n",
              " 'AGE',\n",
              " 'PAY_1',\n",
              " 'BILL_AMT1',\n",
              " 'BILL_AMT2',\n",
              " 'BILL_AMT3',\n",
              " 'BILL_AMT4',\n",
              " 'BILL_AMT5',\n",
              " 'BILL_AMT6',\n",
              " 'PAY_AMT1',\n",
              " 'PAY_AMT2',\n",
              " 'PAY_AMT3',\n",
              " 'PAY_AMT4',\n",
              " 'PAY_AMT5',\n",
              " 'PAY_AMT6',\n",
              " 'default payment next month']"
            ]
          },
          "metadata": {},
          "execution_count": 10
        }
      ]
    },
    {
      "cell_type": "code",
      "source": [
        "corr = df[features_response].corr()"
      ],
      "metadata": {
        "id": "tTl2lUfcbtH3"
      },
      "execution_count": 11,
      "outputs": []
    },
    {
      "cell_type": "code",
      "source": [
        "corr"
      ],
      "metadata": {
        "colab": {
          "base_uri": "https://localhost:8080/",
          "height": 765
        },
        "id": "IGwMTLXoY652",
        "outputId": "500ea8dd-fd54-4ec8-8325-d06dff1ab031"
      },
      "execution_count": 12,
      "outputs": [
        {
          "output_type": "execute_result",
          "data": {
            "text/plain": [
              "                            LIMIT_BAL  EDUCATION  MARRIAGE       AGE  \\\n",
              "LIMIT_BAL                    1.000000  -0.232688 -0.111873  0.149157   \n",
              "EDUCATION                   -0.232688   1.000000 -0.137097  0.179035   \n",
              "MARRIAGE                    -0.111873  -0.137097  1.000000 -0.412828   \n",
              "AGE                          0.149157   0.179035 -0.412828  1.000000   \n",
              "PAY_1                       -0.273396   0.112653  0.019759 -0.044277   \n",
              "BILL_AMT1                    0.287009   0.016156 -0.028610  0.056245   \n",
              "BILL_AMT2                    0.279289   0.012307 -0.026009  0.054099   \n",
              "BILL_AMT3                    0.285299   0.007683 -0.029192  0.054107   \n",
              "BILL_AMT4                    0.294342  -0.005862 -0.027740  0.051241   \n",
              "BILL_AMT5                    0.295198  -0.013174 -0.029895  0.049701   \n",
              "BILL_AMT6                    0.289818  -0.012670 -0.024414  0.047519   \n",
              "PAY_AMT1                     0.194820  -0.040092 -0.002951  0.025437   \n",
              "PAY_AMT2                     0.188049  -0.033610 -0.007548  0.025421   \n",
              "PAY_AMT3                     0.207638  -0.042349 -0.003408  0.029876   \n",
              "PAY_AMT4                     0.202795  -0.039319 -0.014387  0.025307   \n",
              "PAY_AMT5                     0.218082  -0.044946 -0.000410  0.020541   \n",
              "PAY_AMT6                     0.221305  -0.046859 -0.009461  0.021640   \n",
              "default payment next month  -0.154423   0.034966 -0.026030  0.014334   \n",
              "\n",
              "                               PAY_1  BILL_AMT1  BILL_AMT2  BILL_AMT3  \\\n",
              "LIMIT_BAL                  -0.273396   0.287009   0.279289   0.285299   \n",
              "EDUCATION                   0.112653   0.016156   0.012307   0.007683   \n",
              "MARRIAGE                    0.019759  -0.028610  -0.026009  -0.029192   \n",
              "AGE                        -0.044277   0.056245   0.054099   0.054107   \n",
              "PAY_1                       1.000000   0.185826   0.188799   0.181257   \n",
              "BILL_AMT1                   0.185826   1.000000   0.951651   0.900386   \n",
              "BILL_AMT2                   0.188799   0.951651   1.000000   0.937488   \n",
              "BILL_AMT3                   0.181257   0.900386   0.937488   1.000000   \n",
              "BILL_AMT4                   0.178812   0.860149   0.892103   0.930385   \n",
              "BILL_AMT5                   0.180438   0.828615   0.858078   0.889186   \n",
              "BILL_AMT6                   0.177486   0.802008   0.830300   0.855154   \n",
              "PAY_AMT1                   -0.081450   0.138221   0.276583   0.242809   \n",
              "PAY_AMT2                   -0.073295   0.112460   0.114473   0.287837   \n",
              "PAY_AMT3                   -0.072682   0.145635   0.137514   0.119456   \n",
              "PAY_AMT4                   -0.064112   0.160204   0.148685   0.141010   \n",
              "PAY_AMT5                   -0.057021   0.163425   0.153851   0.159446   \n",
              "PAY_AMT6                   -0.061031   0.178943   0.172472   0.178121   \n",
              "default payment next month  0.325365  -0.020508  -0.014579  -0.014649   \n",
              "\n",
              "                            BILL_AMT4  BILL_AMT5  BILL_AMT6  PAY_AMT1  \\\n",
              "LIMIT_BAL                    0.294342   0.295198   0.289818  0.194820   \n",
              "EDUCATION                   -0.005862  -0.013174  -0.012670 -0.040092   \n",
              "MARRIAGE                    -0.027740  -0.029895  -0.024414 -0.002951   \n",
              "AGE                          0.051241   0.049701   0.047519  0.025437   \n",
              "PAY_1                        0.178812   0.180438   0.177486 -0.081450   \n",
              "BILL_AMT1                    0.860149   0.828615   0.802008  0.138221   \n",
              "BILL_AMT2                    0.892103   0.858078   0.830300  0.276583   \n",
              "BILL_AMT3                    0.930385   0.889186   0.855154  0.242809   \n",
              "BILL_AMT4                    1.000000   0.937799   0.899241  0.229123   \n",
              "BILL_AMT5                    0.937799   1.000000   0.945671  0.212053   \n",
              "BILL_AMT6                    0.899241   0.945671   1.000000  0.194316   \n",
              "PAY_AMT1                     0.229123   0.212053   0.194316  1.000000   \n",
              "PAY_AMT2                     0.217716   0.189566   0.167941  0.326951   \n",
              "PAY_AMT3                     0.293652   0.241291   0.219008  0.268781   \n",
              "PAY_AMT4                     0.131700   0.296192   0.251668  0.204178   \n",
              "PAY_AMT5                     0.158633   0.140669   0.305627  0.154208   \n",
              "PAY_AMT6                     0.171339   0.161847   0.117253  0.192774   \n",
              "default payment next month  -0.011349  -0.006753  -0.006274 -0.072431   \n",
              "\n",
              "                            PAY_AMT2  PAY_AMT3  PAY_AMT4  PAY_AMT5  PAY_AMT6  \\\n",
              "LIMIT_BAL                   0.188049  0.207638  0.202795  0.218082  0.221305   \n",
              "EDUCATION                  -0.033610 -0.042349 -0.039319 -0.044946 -0.046859   \n",
              "MARRIAGE                   -0.007548 -0.003408 -0.014387 -0.000410 -0.009461   \n",
              "AGE                         0.025421  0.029876  0.025307  0.020541  0.021640   \n",
              "PAY_1                      -0.073295 -0.072682 -0.064112 -0.057021 -0.061031   \n",
              "BILL_AMT1                   0.112460  0.145635  0.160204  0.163425  0.178943   \n",
              "BILL_AMT2                   0.114473  0.137514  0.148685  0.153851  0.172472   \n",
              "BILL_AMT3                   0.287837  0.119456  0.141010  0.159446  0.178121   \n",
              "BILL_AMT4                   0.217716  0.293652  0.131700  0.158633  0.171339   \n",
              "BILL_AMT5                   0.189566  0.241291  0.296192  0.140669  0.161847   \n",
              "BILL_AMT6                   0.167941  0.219008  0.251668  0.305627  0.117253   \n",
              "PAY_AMT1                    0.326951  0.268781  0.204178  0.154208  0.192774   \n",
              "PAY_AMT2                    1.000000  0.265713  0.188660  0.136844  0.164655   \n",
              "PAY_AMT3                    0.265713  1.000000  0.222513  0.158325  0.163026   \n",
              "PAY_AMT4                    0.188660  0.222513  1.000000  0.153347  0.165131   \n",
              "PAY_AMT5                    0.136844  0.158325  0.153347  1.000000  0.158727   \n",
              "PAY_AMT6                    0.164655  0.163026  0.165131  0.158727  1.000000   \n",
              "default payment next month -0.061555 -0.058010 -0.054572 -0.056651 -0.054838   \n",
              "\n",
              "                            default payment next month  \n",
              "LIMIT_BAL                                    -0.154423  \n",
              "EDUCATION                                     0.034966  \n",
              "MARRIAGE                                     -0.026030  \n",
              "AGE                                           0.014334  \n",
              "PAY_1                                         0.325365  \n",
              "BILL_AMT1                                    -0.020508  \n",
              "BILL_AMT2                                    -0.014579  \n",
              "BILL_AMT3                                    -0.014649  \n",
              "BILL_AMT4                                    -0.011349  \n",
              "BILL_AMT5                                    -0.006753  \n",
              "BILL_AMT6                                    -0.006274  \n",
              "PAY_AMT1                                     -0.072431  \n",
              "PAY_AMT2                                     -0.061555  \n",
              "PAY_AMT3                                     -0.058010  \n",
              "PAY_AMT4                                     -0.054572  \n",
              "PAY_AMT5                                     -0.056651  \n",
              "PAY_AMT6                                     -0.054838  \n",
              "default payment next month                    1.000000  "
            ],
            "text/html": [
              "\n",
              "  <div id=\"df-67eb51f0-f895-4321-af9e-c9fa43e65852\">\n",
              "    <div class=\"colab-df-container\">\n",
              "      <div>\n",
              "<style scoped>\n",
              "    .dataframe tbody tr th:only-of-type {\n",
              "        vertical-align: middle;\n",
              "    }\n",
              "\n",
              "    .dataframe tbody tr th {\n",
              "        vertical-align: top;\n",
              "    }\n",
              "\n",
              "    .dataframe thead th {\n",
              "        text-align: right;\n",
              "    }\n",
              "</style>\n",
              "<table border=\"1\" class=\"dataframe\">\n",
              "  <thead>\n",
              "    <tr style=\"text-align: right;\">\n",
              "      <th></th>\n",
              "      <th>LIMIT_BAL</th>\n",
              "      <th>EDUCATION</th>\n",
              "      <th>MARRIAGE</th>\n",
              "      <th>AGE</th>\n",
              "      <th>PAY_1</th>\n",
              "      <th>BILL_AMT1</th>\n",
              "      <th>BILL_AMT2</th>\n",
              "      <th>BILL_AMT3</th>\n",
              "      <th>BILL_AMT4</th>\n",
              "      <th>BILL_AMT5</th>\n",
              "      <th>BILL_AMT6</th>\n",
              "      <th>PAY_AMT1</th>\n",
              "      <th>PAY_AMT2</th>\n",
              "      <th>PAY_AMT3</th>\n",
              "      <th>PAY_AMT4</th>\n",
              "      <th>PAY_AMT5</th>\n",
              "      <th>PAY_AMT6</th>\n",
              "      <th>default payment next month</th>\n",
              "    </tr>\n",
              "  </thead>\n",
              "  <tbody>\n",
              "    <tr>\n",
              "      <th>LIMIT_BAL</th>\n",
              "      <td>1.000000</td>\n",
              "      <td>-0.232688</td>\n",
              "      <td>-0.111873</td>\n",
              "      <td>0.149157</td>\n",
              "      <td>-0.273396</td>\n",
              "      <td>0.287009</td>\n",
              "      <td>0.279289</td>\n",
              "      <td>0.285299</td>\n",
              "      <td>0.294342</td>\n",
              "      <td>0.295198</td>\n",
              "      <td>0.289818</td>\n",
              "      <td>0.194820</td>\n",
              "      <td>0.188049</td>\n",
              "      <td>0.207638</td>\n",
              "      <td>0.202795</td>\n",
              "      <td>0.218082</td>\n",
              "      <td>0.221305</td>\n",
              "      <td>-0.154423</td>\n",
              "    </tr>\n",
              "    <tr>\n",
              "      <th>EDUCATION</th>\n",
              "      <td>-0.232688</td>\n",
              "      <td>1.000000</td>\n",
              "      <td>-0.137097</td>\n",
              "      <td>0.179035</td>\n",
              "      <td>0.112653</td>\n",
              "      <td>0.016156</td>\n",
              "      <td>0.012307</td>\n",
              "      <td>0.007683</td>\n",
              "      <td>-0.005862</td>\n",
              "      <td>-0.013174</td>\n",
              "      <td>-0.012670</td>\n",
              "      <td>-0.040092</td>\n",
              "      <td>-0.033610</td>\n",
              "      <td>-0.042349</td>\n",
              "      <td>-0.039319</td>\n",
              "      <td>-0.044946</td>\n",
              "      <td>-0.046859</td>\n",
              "      <td>0.034966</td>\n",
              "    </tr>\n",
              "    <tr>\n",
              "      <th>MARRIAGE</th>\n",
              "      <td>-0.111873</td>\n",
              "      <td>-0.137097</td>\n",
              "      <td>1.000000</td>\n",
              "      <td>-0.412828</td>\n",
              "      <td>0.019759</td>\n",
              "      <td>-0.028610</td>\n",
              "      <td>-0.026009</td>\n",
              "      <td>-0.029192</td>\n",
              "      <td>-0.027740</td>\n",
              "      <td>-0.029895</td>\n",
              "      <td>-0.024414</td>\n",
              "      <td>-0.002951</td>\n",
              "      <td>-0.007548</td>\n",
              "      <td>-0.003408</td>\n",
              "      <td>-0.014387</td>\n",
              "      <td>-0.000410</td>\n",
              "      <td>-0.009461</td>\n",
              "      <td>-0.026030</td>\n",
              "    </tr>\n",
              "    <tr>\n",
              "      <th>AGE</th>\n",
              "      <td>0.149157</td>\n",
              "      <td>0.179035</td>\n",
              "      <td>-0.412828</td>\n",
              "      <td>1.000000</td>\n",
              "      <td>-0.044277</td>\n",
              "      <td>0.056245</td>\n",
              "      <td>0.054099</td>\n",
              "      <td>0.054107</td>\n",
              "      <td>0.051241</td>\n",
              "      <td>0.049701</td>\n",
              "      <td>0.047519</td>\n",
              "      <td>0.025437</td>\n",
              "      <td>0.025421</td>\n",
              "      <td>0.029876</td>\n",
              "      <td>0.025307</td>\n",
              "      <td>0.020541</td>\n",
              "      <td>0.021640</td>\n",
              "      <td>0.014334</td>\n",
              "    </tr>\n",
              "    <tr>\n",
              "      <th>PAY_1</th>\n",
              "      <td>-0.273396</td>\n",
              "      <td>0.112653</td>\n",
              "      <td>0.019759</td>\n",
              "      <td>-0.044277</td>\n",
              "      <td>1.000000</td>\n",
              "      <td>0.185826</td>\n",
              "      <td>0.188799</td>\n",
              "      <td>0.181257</td>\n",
              "      <td>0.178812</td>\n",
              "      <td>0.180438</td>\n",
              "      <td>0.177486</td>\n",
              "      <td>-0.081450</td>\n",
              "      <td>-0.073295</td>\n",
              "      <td>-0.072682</td>\n",
              "      <td>-0.064112</td>\n",
              "      <td>-0.057021</td>\n",
              "      <td>-0.061031</td>\n",
              "      <td>0.325365</td>\n",
              "    </tr>\n",
              "    <tr>\n",
              "      <th>BILL_AMT1</th>\n",
              "      <td>0.287009</td>\n",
              "      <td>0.016156</td>\n",
              "      <td>-0.028610</td>\n",
              "      <td>0.056245</td>\n",
              "      <td>0.185826</td>\n",
              "      <td>1.000000</td>\n",
              "      <td>0.951651</td>\n",
              "      <td>0.900386</td>\n",
              "      <td>0.860149</td>\n",
              "      <td>0.828615</td>\n",
              "      <td>0.802008</td>\n",
              "      <td>0.138221</td>\n",
              "      <td>0.112460</td>\n",
              "      <td>0.145635</td>\n",
              "      <td>0.160204</td>\n",
              "      <td>0.163425</td>\n",
              "      <td>0.178943</td>\n",
              "      <td>-0.020508</td>\n",
              "    </tr>\n",
              "    <tr>\n",
              "      <th>BILL_AMT2</th>\n",
              "      <td>0.279289</td>\n",
              "      <td>0.012307</td>\n",
              "      <td>-0.026009</td>\n",
              "      <td>0.054099</td>\n",
              "      <td>0.188799</td>\n",
              "      <td>0.951651</td>\n",
              "      <td>1.000000</td>\n",
              "      <td>0.937488</td>\n",
              "      <td>0.892103</td>\n",
              "      <td>0.858078</td>\n",
              "      <td>0.830300</td>\n",
              "      <td>0.276583</td>\n",
              "      <td>0.114473</td>\n",
              "      <td>0.137514</td>\n",
              "      <td>0.148685</td>\n",
              "      <td>0.153851</td>\n",
              "      <td>0.172472</td>\n",
              "      <td>-0.014579</td>\n",
              "    </tr>\n",
              "    <tr>\n",
              "      <th>BILL_AMT3</th>\n",
              "      <td>0.285299</td>\n",
              "      <td>0.007683</td>\n",
              "      <td>-0.029192</td>\n",
              "      <td>0.054107</td>\n",
              "      <td>0.181257</td>\n",
              "      <td>0.900386</td>\n",
              "      <td>0.937488</td>\n",
              "      <td>1.000000</td>\n",
              "      <td>0.930385</td>\n",
              "      <td>0.889186</td>\n",
              "      <td>0.855154</td>\n",
              "      <td>0.242809</td>\n",
              "      <td>0.287837</td>\n",
              "      <td>0.119456</td>\n",
              "      <td>0.141010</td>\n",
              "      <td>0.159446</td>\n",
              "      <td>0.178121</td>\n",
              "      <td>-0.014649</td>\n",
              "    </tr>\n",
              "    <tr>\n",
              "      <th>BILL_AMT4</th>\n",
              "      <td>0.294342</td>\n",
              "      <td>-0.005862</td>\n",
              "      <td>-0.027740</td>\n",
              "      <td>0.051241</td>\n",
              "      <td>0.178812</td>\n",
              "      <td>0.860149</td>\n",
              "      <td>0.892103</td>\n",
              "      <td>0.930385</td>\n",
              "      <td>1.000000</td>\n",
              "      <td>0.937799</td>\n",
              "      <td>0.899241</td>\n",
              "      <td>0.229123</td>\n",
              "      <td>0.217716</td>\n",
              "      <td>0.293652</td>\n",
              "      <td>0.131700</td>\n",
              "      <td>0.158633</td>\n",
              "      <td>0.171339</td>\n",
              "      <td>-0.011349</td>\n",
              "    </tr>\n",
              "    <tr>\n",
              "      <th>BILL_AMT5</th>\n",
              "      <td>0.295198</td>\n",
              "      <td>-0.013174</td>\n",
              "      <td>-0.029895</td>\n",
              "      <td>0.049701</td>\n",
              "      <td>0.180438</td>\n",
              "      <td>0.828615</td>\n",
              "      <td>0.858078</td>\n",
              "      <td>0.889186</td>\n",
              "      <td>0.937799</td>\n",
              "      <td>1.000000</td>\n",
              "      <td>0.945671</td>\n",
              "      <td>0.212053</td>\n",
              "      <td>0.189566</td>\n",
              "      <td>0.241291</td>\n",
              "      <td>0.296192</td>\n",
              "      <td>0.140669</td>\n",
              "      <td>0.161847</td>\n",
              "      <td>-0.006753</td>\n",
              "    </tr>\n",
              "    <tr>\n",
              "      <th>BILL_AMT6</th>\n",
              "      <td>0.289818</td>\n",
              "      <td>-0.012670</td>\n",
              "      <td>-0.024414</td>\n",
              "      <td>0.047519</td>\n",
              "      <td>0.177486</td>\n",
              "      <td>0.802008</td>\n",
              "      <td>0.830300</td>\n",
              "      <td>0.855154</td>\n",
              "      <td>0.899241</td>\n",
              "      <td>0.945671</td>\n",
              "      <td>1.000000</td>\n",
              "      <td>0.194316</td>\n",
              "      <td>0.167941</td>\n",
              "      <td>0.219008</td>\n",
              "      <td>0.251668</td>\n",
              "      <td>0.305627</td>\n",
              "      <td>0.117253</td>\n",
              "      <td>-0.006274</td>\n",
              "    </tr>\n",
              "    <tr>\n",
              "      <th>PAY_AMT1</th>\n",
              "      <td>0.194820</td>\n",
              "      <td>-0.040092</td>\n",
              "      <td>-0.002951</td>\n",
              "      <td>0.025437</td>\n",
              "      <td>-0.081450</td>\n",
              "      <td>0.138221</td>\n",
              "      <td>0.276583</td>\n",
              "      <td>0.242809</td>\n",
              "      <td>0.229123</td>\n",
              "      <td>0.212053</td>\n",
              "      <td>0.194316</td>\n",
              "      <td>1.000000</td>\n",
              "      <td>0.326951</td>\n",
              "      <td>0.268781</td>\n",
              "      <td>0.204178</td>\n",
              "      <td>0.154208</td>\n",
              "      <td>0.192774</td>\n",
              "      <td>-0.072431</td>\n",
              "    </tr>\n",
              "    <tr>\n",
              "      <th>PAY_AMT2</th>\n",
              "      <td>0.188049</td>\n",
              "      <td>-0.033610</td>\n",
              "      <td>-0.007548</td>\n",
              "      <td>0.025421</td>\n",
              "      <td>-0.073295</td>\n",
              "      <td>0.112460</td>\n",
              "      <td>0.114473</td>\n",
              "      <td>0.287837</td>\n",
              "      <td>0.217716</td>\n",
              "      <td>0.189566</td>\n",
              "      <td>0.167941</td>\n",
              "      <td>0.326951</td>\n",
              "      <td>1.000000</td>\n",
              "      <td>0.265713</td>\n",
              "      <td>0.188660</td>\n",
              "      <td>0.136844</td>\n",
              "      <td>0.164655</td>\n",
              "      <td>-0.061555</td>\n",
              "    </tr>\n",
              "    <tr>\n",
              "      <th>PAY_AMT3</th>\n",
              "      <td>0.207638</td>\n",
              "      <td>-0.042349</td>\n",
              "      <td>-0.003408</td>\n",
              "      <td>0.029876</td>\n",
              "      <td>-0.072682</td>\n",
              "      <td>0.145635</td>\n",
              "      <td>0.137514</td>\n",
              "      <td>0.119456</td>\n",
              "      <td>0.293652</td>\n",
              "      <td>0.241291</td>\n",
              "      <td>0.219008</td>\n",
              "      <td>0.268781</td>\n",
              "      <td>0.265713</td>\n",
              "      <td>1.000000</td>\n",
              "      <td>0.222513</td>\n",
              "      <td>0.158325</td>\n",
              "      <td>0.163026</td>\n",
              "      <td>-0.058010</td>\n",
              "    </tr>\n",
              "    <tr>\n",
              "      <th>PAY_AMT4</th>\n",
              "      <td>0.202795</td>\n",
              "      <td>-0.039319</td>\n",
              "      <td>-0.014387</td>\n",
              "      <td>0.025307</td>\n",
              "      <td>-0.064112</td>\n",
              "      <td>0.160204</td>\n",
              "      <td>0.148685</td>\n",
              "      <td>0.141010</td>\n",
              "      <td>0.131700</td>\n",
              "      <td>0.296192</td>\n",
              "      <td>0.251668</td>\n",
              "      <td>0.204178</td>\n",
              "      <td>0.188660</td>\n",
              "      <td>0.222513</td>\n",
              "      <td>1.000000</td>\n",
              "      <td>0.153347</td>\n",
              "      <td>0.165131</td>\n",
              "      <td>-0.054572</td>\n",
              "    </tr>\n",
              "    <tr>\n",
              "      <th>PAY_AMT5</th>\n",
              "      <td>0.218082</td>\n",
              "      <td>-0.044946</td>\n",
              "      <td>-0.000410</td>\n",
              "      <td>0.020541</td>\n",
              "      <td>-0.057021</td>\n",
              "      <td>0.163425</td>\n",
              "      <td>0.153851</td>\n",
              "      <td>0.159446</td>\n",
              "      <td>0.158633</td>\n",
              "      <td>0.140669</td>\n",
              "      <td>0.305627</td>\n",
              "      <td>0.154208</td>\n",
              "      <td>0.136844</td>\n",
              "      <td>0.158325</td>\n",
              "      <td>0.153347</td>\n",
              "      <td>1.000000</td>\n",
              "      <td>0.158727</td>\n",
              "      <td>-0.056651</td>\n",
              "    </tr>\n",
              "    <tr>\n",
              "      <th>PAY_AMT6</th>\n",
              "      <td>0.221305</td>\n",
              "      <td>-0.046859</td>\n",
              "      <td>-0.009461</td>\n",
              "      <td>0.021640</td>\n",
              "      <td>-0.061031</td>\n",
              "      <td>0.178943</td>\n",
              "      <td>0.172472</td>\n",
              "      <td>0.178121</td>\n",
              "      <td>0.171339</td>\n",
              "      <td>0.161847</td>\n",
              "      <td>0.117253</td>\n",
              "      <td>0.192774</td>\n",
              "      <td>0.164655</td>\n",
              "      <td>0.163026</td>\n",
              "      <td>0.165131</td>\n",
              "      <td>0.158727</td>\n",
              "      <td>1.000000</td>\n",
              "      <td>-0.054838</td>\n",
              "    </tr>\n",
              "    <tr>\n",
              "      <th>default payment next month</th>\n",
              "      <td>-0.154423</td>\n",
              "      <td>0.034966</td>\n",
              "      <td>-0.026030</td>\n",
              "      <td>0.014334</td>\n",
              "      <td>0.325365</td>\n",
              "      <td>-0.020508</td>\n",
              "      <td>-0.014579</td>\n",
              "      <td>-0.014649</td>\n",
              "      <td>-0.011349</td>\n",
              "      <td>-0.006753</td>\n",
              "      <td>-0.006274</td>\n",
              "      <td>-0.072431</td>\n",
              "      <td>-0.061555</td>\n",
              "      <td>-0.058010</td>\n",
              "      <td>-0.054572</td>\n",
              "      <td>-0.056651</td>\n",
              "      <td>-0.054838</td>\n",
              "      <td>1.000000</td>\n",
              "    </tr>\n",
              "  </tbody>\n",
              "</table>\n",
              "</div>\n",
              "      <button class=\"colab-df-convert\" onclick=\"convertToInteractive('df-67eb51f0-f895-4321-af9e-c9fa43e65852')\"\n",
              "              title=\"Convert this dataframe to an interactive table.\"\n",
              "              style=\"display:none;\">\n",
              "        \n",
              "  <svg xmlns=\"http://www.w3.org/2000/svg\" height=\"24px\"viewBox=\"0 0 24 24\"\n",
              "       width=\"24px\">\n",
              "    <path d=\"M0 0h24v24H0V0z\" fill=\"none\"/>\n",
              "    <path d=\"M18.56 5.44l.94 2.06.94-2.06 2.06-.94-2.06-.94-.94-2.06-.94 2.06-2.06.94zm-11 1L8.5 8.5l.94-2.06 2.06-.94-2.06-.94L8.5 2.5l-.94 2.06-2.06.94zm10 10l.94 2.06.94-2.06 2.06-.94-2.06-.94-.94-2.06-.94 2.06-2.06.94z\"/><path d=\"M17.41 7.96l-1.37-1.37c-.4-.4-.92-.59-1.43-.59-.52 0-1.04.2-1.43.59L10.3 9.45l-7.72 7.72c-.78.78-.78 2.05 0 2.83L4 21.41c.39.39.9.59 1.41.59.51 0 1.02-.2 1.41-.59l7.78-7.78 2.81-2.81c.8-.78.8-2.07 0-2.86zM5.41 20L4 18.59l7.72-7.72 1.47 1.35L5.41 20z\"/>\n",
              "  </svg>\n",
              "      </button>\n",
              "      \n",
              "  <style>\n",
              "    .colab-df-container {\n",
              "      display:flex;\n",
              "      flex-wrap:wrap;\n",
              "      gap: 12px;\n",
              "    }\n",
              "\n",
              "    .colab-df-convert {\n",
              "      background-color: #E8F0FE;\n",
              "      border: none;\n",
              "      border-radius: 50%;\n",
              "      cursor: pointer;\n",
              "      display: none;\n",
              "      fill: #1967D2;\n",
              "      height: 32px;\n",
              "      padding: 0 0 0 0;\n",
              "      width: 32px;\n",
              "    }\n",
              "\n",
              "    .colab-df-convert:hover {\n",
              "      background-color: #E2EBFA;\n",
              "      box-shadow: 0px 1px 2px rgba(60, 64, 67, 0.3), 0px 1px 3px 1px rgba(60, 64, 67, 0.15);\n",
              "      fill: #174EA6;\n",
              "    }\n",
              "\n",
              "    [theme=dark] .colab-df-convert {\n",
              "      background-color: #3B4455;\n",
              "      fill: #D2E3FC;\n",
              "    }\n",
              "\n",
              "    [theme=dark] .colab-df-convert:hover {\n",
              "      background-color: #434B5C;\n",
              "      box-shadow: 0px 1px 3px 1px rgba(0, 0, 0, 0.15);\n",
              "      filter: drop-shadow(0px 1px 2px rgba(0, 0, 0, 0.3));\n",
              "      fill: #FFFFFF;\n",
              "    }\n",
              "  </style>\n",
              "\n",
              "      <script>\n",
              "        const buttonEl =\n",
              "          document.querySelector('#df-67eb51f0-f895-4321-af9e-c9fa43e65852 button.colab-df-convert');\n",
              "        buttonEl.style.display =\n",
              "          google.colab.kernel.accessAllowed ? 'block' : 'none';\n",
              "\n",
              "        async function convertToInteractive(key) {\n",
              "          const element = document.querySelector('#df-67eb51f0-f895-4321-af9e-c9fa43e65852');\n",
              "          const dataTable =\n",
              "            await google.colab.kernel.invokeFunction('convertToInteractive',\n",
              "                                                     [key], {});\n",
              "          if (!dataTable) return;\n",
              "\n",
              "          const docLinkHtml = 'Like what you see? Visit the ' +\n",
              "            '<a target=\"_blank\" href=https://colab.research.google.com/notebooks/data_table.ipynb>data table notebook</a>'\n",
              "            + ' to learn more about interactive tables.';\n",
              "          element.innerHTML = '';\n",
              "          dataTable['output_type'] = 'display_data';\n",
              "          await google.colab.output.renderOutput(dataTable, element);\n",
              "          const docLink = document.createElement('div');\n",
              "          docLink.innerHTML = docLinkHtml;\n",
              "          element.appendChild(docLink);\n",
              "        }\n",
              "      </script>\n",
              "    </div>\n",
              "  </div>\n",
              "  "
            ]
          },
          "metadata": {},
          "execution_count": 12
        }
      ]
    },
    {
      "cell_type": "code",
      "source": [
        "corr.iloc[0:5,0:5]"
      ],
      "metadata": {
        "colab": {
          "base_uri": "https://localhost:8080/",
          "height": 206
        },
        "id": "M7dqo0z2eFh5",
        "outputId": "8bef862d-4d7c-4716-bc9c-5a9f8bf582ad"
      },
      "execution_count": 13,
      "outputs": [
        {
          "output_type": "execute_result",
          "data": {
            "text/plain": [
              "           LIMIT_BAL  EDUCATION  MARRIAGE       AGE     PAY_1\n",
              "LIMIT_BAL   1.000000  -0.232688 -0.111873  0.149157 -0.273396\n",
              "EDUCATION  -0.232688   1.000000 -0.137097  0.179035  0.112653\n",
              "MARRIAGE   -0.111873  -0.137097  1.000000 -0.412828  0.019759\n",
              "AGE         0.149157   0.179035 -0.412828  1.000000 -0.044277\n",
              "PAY_1      -0.273396   0.112653  0.019759 -0.044277  1.000000"
            ],
            "text/html": [
              "\n",
              "  <div id=\"df-2ea5bd9d-a349-4c96-b787-b10dfe7ce759\">\n",
              "    <div class=\"colab-df-container\">\n",
              "      <div>\n",
              "<style scoped>\n",
              "    .dataframe tbody tr th:only-of-type {\n",
              "        vertical-align: middle;\n",
              "    }\n",
              "\n",
              "    .dataframe tbody tr th {\n",
              "        vertical-align: top;\n",
              "    }\n",
              "\n",
              "    .dataframe thead th {\n",
              "        text-align: right;\n",
              "    }\n",
              "</style>\n",
              "<table border=\"1\" class=\"dataframe\">\n",
              "  <thead>\n",
              "    <tr style=\"text-align: right;\">\n",
              "      <th></th>\n",
              "      <th>LIMIT_BAL</th>\n",
              "      <th>EDUCATION</th>\n",
              "      <th>MARRIAGE</th>\n",
              "      <th>AGE</th>\n",
              "      <th>PAY_1</th>\n",
              "    </tr>\n",
              "  </thead>\n",
              "  <tbody>\n",
              "    <tr>\n",
              "      <th>LIMIT_BAL</th>\n",
              "      <td>1.000000</td>\n",
              "      <td>-0.232688</td>\n",
              "      <td>-0.111873</td>\n",
              "      <td>0.149157</td>\n",
              "      <td>-0.273396</td>\n",
              "    </tr>\n",
              "    <tr>\n",
              "      <th>EDUCATION</th>\n",
              "      <td>-0.232688</td>\n",
              "      <td>1.000000</td>\n",
              "      <td>-0.137097</td>\n",
              "      <td>0.179035</td>\n",
              "      <td>0.112653</td>\n",
              "    </tr>\n",
              "    <tr>\n",
              "      <th>MARRIAGE</th>\n",
              "      <td>-0.111873</td>\n",
              "      <td>-0.137097</td>\n",
              "      <td>1.000000</td>\n",
              "      <td>-0.412828</td>\n",
              "      <td>0.019759</td>\n",
              "    </tr>\n",
              "    <tr>\n",
              "      <th>AGE</th>\n",
              "      <td>0.149157</td>\n",
              "      <td>0.179035</td>\n",
              "      <td>-0.412828</td>\n",
              "      <td>1.000000</td>\n",
              "      <td>-0.044277</td>\n",
              "    </tr>\n",
              "    <tr>\n",
              "      <th>PAY_1</th>\n",
              "      <td>-0.273396</td>\n",
              "      <td>0.112653</td>\n",
              "      <td>0.019759</td>\n",
              "      <td>-0.044277</td>\n",
              "      <td>1.000000</td>\n",
              "    </tr>\n",
              "  </tbody>\n",
              "</table>\n",
              "</div>\n",
              "      <button class=\"colab-df-convert\" onclick=\"convertToInteractive('df-2ea5bd9d-a349-4c96-b787-b10dfe7ce759')\"\n",
              "              title=\"Convert this dataframe to an interactive table.\"\n",
              "              style=\"display:none;\">\n",
              "        \n",
              "  <svg xmlns=\"http://www.w3.org/2000/svg\" height=\"24px\"viewBox=\"0 0 24 24\"\n",
              "       width=\"24px\">\n",
              "    <path d=\"M0 0h24v24H0V0z\" fill=\"none\"/>\n",
              "    <path d=\"M18.56 5.44l.94 2.06.94-2.06 2.06-.94-2.06-.94-.94-2.06-.94 2.06-2.06.94zm-11 1L8.5 8.5l.94-2.06 2.06-.94-2.06-.94L8.5 2.5l-.94 2.06-2.06.94zm10 10l.94 2.06.94-2.06 2.06-.94-2.06-.94-.94-2.06-.94 2.06-2.06.94z\"/><path d=\"M17.41 7.96l-1.37-1.37c-.4-.4-.92-.59-1.43-.59-.52 0-1.04.2-1.43.59L10.3 9.45l-7.72 7.72c-.78.78-.78 2.05 0 2.83L4 21.41c.39.39.9.59 1.41.59.51 0 1.02-.2 1.41-.59l7.78-7.78 2.81-2.81c.8-.78.8-2.07 0-2.86zM5.41 20L4 18.59l7.72-7.72 1.47 1.35L5.41 20z\"/>\n",
              "  </svg>\n",
              "      </button>\n",
              "      \n",
              "  <style>\n",
              "    .colab-df-container {\n",
              "      display:flex;\n",
              "      flex-wrap:wrap;\n",
              "      gap: 12px;\n",
              "    }\n",
              "\n",
              "    .colab-df-convert {\n",
              "      background-color: #E8F0FE;\n",
              "      border: none;\n",
              "      border-radius: 50%;\n",
              "      cursor: pointer;\n",
              "      display: none;\n",
              "      fill: #1967D2;\n",
              "      height: 32px;\n",
              "      padding: 0 0 0 0;\n",
              "      width: 32px;\n",
              "    }\n",
              "\n",
              "    .colab-df-convert:hover {\n",
              "      background-color: #E2EBFA;\n",
              "      box-shadow: 0px 1px 2px rgba(60, 64, 67, 0.3), 0px 1px 3px 1px rgba(60, 64, 67, 0.15);\n",
              "      fill: #174EA6;\n",
              "    }\n",
              "\n",
              "    [theme=dark] .colab-df-convert {\n",
              "      background-color: #3B4455;\n",
              "      fill: #D2E3FC;\n",
              "    }\n",
              "\n",
              "    [theme=dark] .colab-df-convert:hover {\n",
              "      background-color: #434B5C;\n",
              "      box-shadow: 0px 1px 3px 1px rgba(0, 0, 0, 0.15);\n",
              "      filter: drop-shadow(0px 1px 2px rgba(0, 0, 0, 0.3));\n",
              "      fill: #FFFFFF;\n",
              "    }\n",
              "  </style>\n",
              "\n",
              "      <script>\n",
              "        const buttonEl =\n",
              "          document.querySelector('#df-2ea5bd9d-a349-4c96-b787-b10dfe7ce759 button.colab-df-convert');\n",
              "        buttonEl.style.display =\n",
              "          google.colab.kernel.accessAllowed ? 'block' : 'none';\n",
              "\n",
              "        async function convertToInteractive(key) {\n",
              "          const element = document.querySelector('#df-2ea5bd9d-a349-4c96-b787-b10dfe7ce759');\n",
              "          const dataTable =\n",
              "            await google.colab.kernel.invokeFunction('convertToInteractive',\n",
              "                                                     [key], {});\n",
              "          if (!dataTable) return;\n",
              "\n",
              "          const docLinkHtml = 'Like what you see? Visit the ' +\n",
              "            '<a target=\"_blank\" href=https://colab.research.google.com/notebooks/data_table.ipynb>data table notebook</a>'\n",
              "            + ' to learn more about interactive tables.';\n",
              "          element.innerHTML = '';\n",
              "          dataTable['output_type'] = 'display_data';\n",
              "          await google.colab.output.renderOutput(dataTable, element);\n",
              "          const docLink = document.createElement('div');\n",
              "          docLink.innerHTML = docLinkHtml;\n",
              "          element.appendChild(docLink);\n",
              "        }\n",
              "      </script>\n",
              "    </div>\n",
              "  </div>\n",
              "  "
            ]
          },
          "metadata": {},
          "execution_count": 13
        }
      ]
    },
    {
      "cell_type": "code",
      "source": [
        "mpl.rcParams['figure.dpi'] = 400 #high res figures\n",
        "sns.heatmap(corr, \n",
        "            xticklabels=corr.columns.values,\n",
        "            yticklabels=corr.columns.values,\n",
        "            center=0)"
      ],
      "metadata": {
        "colab": {
          "base_uri": "https://localhost:8080/",
          "height": 963
        },
        "id": "7s5l_sSJeL8s",
        "outputId": "1f8c0a42-1dfa-4e92-d5f3-a60c0871096d"
      },
      "execution_count": 14,
      "outputs": [
        {
          "output_type": "execute_result",
          "data": {
            "text/plain": [
              "<matplotlib.axes._subplots.AxesSubplot at 0x7fae6014cd90>"
            ]
          },
          "metadata": {},
          "execution_count": 14
        },
        {
          "output_type": "display_data",
          "data": {
            "text/plain": [
              "<Figure size 2400x1600 with 2 Axes>"
            ],
            "image/png": "[encoded data removed]"
          },
          "metadata": {
            "needs_background": "light"
          }
        }
      ]
    },
    {
      "cell_type": "markdown",
      "source": [
        "**F-test and Univariate Feature Selection**"
      ],
      "metadata": {
        "id": "3yGxeL4oVjeF"
      }
    },
    {
      "cell_type": "code",
      "source": [
        "X = df[features_response].iloc[:,:-1].values\n",
        "y = df[features_response].iloc[:,-1].values\n",
        "print(X.shape, y.shape)"
      ],
      "metadata": {
        "colab": {
          "base_uri": "https://localhost:8080/"
        },
        "id": "OhxdDNPrVpgY",
        "outputId": "f603a328-dd8f-4dd7-a9cd-3cf787c94503"
      },
      "execution_count": 15,
      "outputs": [
        {
          "output_type": "stream",
          "name": "stdout",
          "text": [
            "(26664, 17) (26664,)\n"
          ]
        }
      ]
    },
    {
      "cell_type": "code",
      "source": [
        "y"
      ],
      "metadata": {
        "colab": {
          "base_uri": "https://localhost:8080/"
        },
        "id": "G8kJyhRkWKWM",
        "outputId": "7cb9b202-c91e-4b44-d24c-b771875c8591"
      },
      "execution_count": 16,
      "outputs": [
        {
          "output_type": "execute_result",
          "data": {
            "text/plain": [
              "array([1, 1, 0, ..., 1, 1, 1])"
            ]
          },
          "metadata": {},
          "execution_count": 16
        }
      ]
    },
    {
      "cell_type": "code",
      "source": [
        "X"
      ],
      "metadata": {
        "colab": {
          "base_uri": "https://localhost:8080/"
        },
        "id": "BFke37ZTWcTO",
        "outputId": "d76a9aca-03a6-4e91-8173-a9bc848e4bbf"
      },
      "execution_count": 17,
      "outputs": [
        {
          "output_type": "execute_result",
          "data": {
            "text/plain": [
              "array([[ 20000,      2,      1, ...,      0,      0,      0],\n",
              "       [120000,      2,      2, ...,   1000,      0,   2000],\n",
              "       [ 90000,      2,      2, ...,   1000,   1000,   5000],\n",
              "       ...,\n",
              "       [ 30000,      2,      2, ...,   4200,   2000,   3100],\n",
              "       [ 80000,      3,      1, ...,   1926,  52964,   1804],\n",
              "       [ 50000,      2,      1, ...,   1000,   1000,   1000]])"
            ]
          },
          "metadata": {},
          "execution_count": 17
        }
      ]
    },
    {
      "cell_type": "code",
      "source": [
        "from sklearn.feature_selection import f_classif"
      ],
      "metadata": {
        "id": "5x7afjPVWjz9"
      },
      "execution_count": 18,
      "outputs": []
    },
    {
      "cell_type": "code",
      "source": [
        "[f_stat, f_p_value] = f_classif(X, y)"
      ],
      "metadata": {
        "id": "YXkTGT-nXVAb"
      },
      "execution_count": 19,
      "outputs": []
    },
    {
      "cell_type": "code",
      "source": [
        "f_stat"
      ],
      "metadata": {
        "colab": {
          "base_uri": "https://localhost:8080/"
        },
        "id": "ryisa4tIXZe-",
        "outputId": "818a0511-edbf-40f4-828c-34f1e5bb0a33"
      },
      "execution_count": 20,
      "outputs": [
        {
          "output_type": "execute_result",
          "data": {
            "text/plain": [
              "array([6.51324071e+02, 3.26377679e+01, 1.80780265e+01, 5.47913953e+00,\n",
              "       3.15667230e+03, 1.12184060e+01, 5.66845420e+00, 5.72293789e+00,\n",
              "       3.43474047e+00, 1.21608188e+00, 1.04956059e+00, 1.40612679e+02,\n",
              "       1.01408321e+02, 9.00238734e+01, 7.96400211e+01, 8.58432945e+01,\n",
              "       8.04207840e+01])"
            ]
          },
          "metadata": {},
          "execution_count": 20
        }
      ]
    },
    {
      "cell_type": "code",
      "source": [
        "f_p_value"
      ],
      "metadata": {
        "colab": {
          "base_uri": "https://localhost:8080/"
        },
        "id": "Tl3t6a1eXfXI",
        "outputId": "1c5f39f0-ad08-41df-b690-c9b5c7f54025"
      },
      "execution_count": 21,
      "outputs": [
        {
          "output_type": "execute_result",
          "data": {
            "text/plain": [
              "array([5.83836587e-142, 1.12217491e-008, 2.12755520e-005, 1.92520602e-002,\n",
              "       0.00000000e+000, 8.11022595e-004, 1.72796505e-002, 1.67515708e-002,\n",
              "       6.38496543e-002, 2.70140911e-001, 3.05617603e-001, 2.35835447e-032,\n",
              "       8.25612412e-024, 2.54264104e-021, 4.77411188e-019, 2.09011996e-020,\n",
              "       3.21956535e-019])"
            ]
          },
          "metadata": {},
          "execution_count": 21
        }
      ]
    },
    {
      "cell_type": "code",
      "source": [
        "f_test_df = pd.DataFrame({'Feature':features_response[:-1],\n",
        "                          'F statistic':f_stat,\n",
        "                          'p value':f_p_value})\n",
        "f_test_df.sort_values('p value')"
      ],
      "metadata": {
        "colab": {
          "base_uri": "https://localhost:8080/",
          "height": 583
        },
        "id": "BCxKYNBvXj6u",
        "outputId": "bbed28f5-241c-4bf4-be4b-1ba40b79c342"
      },
      "execution_count": 22,
      "outputs": [
        {
          "output_type": "execute_result",
          "data": {
            "text/plain": [
              "      Feature  F statistic        p value\n",
              "4       PAY_1  3156.672300   0.000000e+00\n",
              "0   LIMIT_BAL   651.324071  5.838366e-142\n",
              "11   PAY_AMT1   140.612679   2.358354e-32\n",
              "12   PAY_AMT2   101.408321   8.256124e-24\n",
              "13   PAY_AMT3    90.023873   2.542641e-21\n",
              "15   PAY_AMT5    85.843295   2.090120e-20\n",
              "16   PAY_AMT6    80.420784   3.219565e-19\n",
              "14   PAY_AMT4    79.640021   4.774112e-19\n",
              "1   EDUCATION    32.637768   1.122175e-08\n",
              "2    MARRIAGE    18.078027   2.127555e-05\n",
              "5   BILL_AMT1    11.218406   8.110226e-04\n",
              "7   BILL_AMT3     5.722938   1.675157e-02\n",
              "6   BILL_AMT2     5.668454   1.727965e-02\n",
              "3         AGE     5.479140   1.925206e-02\n",
              "8   BILL_AMT4     3.434740   6.384965e-02\n",
              "9   BILL_AMT5     1.216082   2.701409e-01\n",
              "10  BILL_AMT6     1.049561   3.056176e-01"
            ],
            "text/html": [
              "\n",
              "  <div id=\"df-97a9fc01-6114-4404-b136-7cabbc3355c0\">\n",
              "    <div class=\"colab-df-container\">\n",
              "      <div>\n",
              "<style scoped>\n",
              "    .dataframe tbody tr th:only-of-type {\n",
              "        vertical-align: middle;\n",
              "    }\n",
              "\n",
              "    .dataframe tbody tr th {\n",
              "        vertical-align: top;\n",
              "    }\n",
              "\n",
              "    .dataframe thead th {\n",
              "        text-align: right;\n",
              "    }\n",
              "</style>\n",
              "<table border=\"1\" class=\"dataframe\">\n",
              "  <thead>\n",
              "    <tr style=\"text-align: right;\">\n",
              "      <th></th>\n",
              "      <th>Feature</th>\n",
              "      <th>F statistic</th>\n",
              "      <th>p value</th>\n",
              "    </tr>\n",
              "  </thead>\n",
              "  <tbody>\n",
              "    <tr>\n",
              "      <th>4</th>\n",
              "      <td>PAY_1</td>\n",
              "      <td>3156.672300</td>\n",
              "      <td>0.000000e+00</td>\n",
              "    </tr>\n",
              "    <tr>\n",
              "      <th>0</th>\n",
              "      <td>LIMIT_BAL</td>\n",
              "      <td>651.324071</td>\n",
              "      <td>5.838366e-142</td>\n",
              "    </tr>\n",
              "    <tr>\n",
              "      <th>11</th>\n",
              "      <td>PAY_AMT1</td>\n",
              "      <td>140.612679</td>\n",
              "      <td>2.358354e-32</td>\n",
              "    </tr>\n",
              "    <tr>\n",
              "      <th>12</th>\n",
              "      <td>PAY_AMT2</td>\n",
              "      <td>101.408321</td>\n",
              "      <td>8.256124e-24</td>\n",
              "    </tr>\n",
              "    <tr>\n",
              "      <th>13</th>\n",
              "      <td>PAY_AMT3</td>\n",
              "      <td>90.023873</td>\n",
              "      <td>2.542641e-21</td>\n",
              "    </tr>\n",
              "    <tr>\n",
              "      <th>15</th>\n",
              "      <td>PAY_AMT5</td>\n",
              "      <td>85.843295</td>\n",
              "      <td>2.090120e-20</td>\n",
              "    </tr>\n",
              "    <tr>\n",
              "      <th>16</th>\n",
              "      <td>PAY_AMT6</td>\n",
              "      <td>80.420784</td>\n",
              "      <td>3.219565e-19</td>\n",
              "    </tr>\n",
              "    <tr>\n",
              "      <th>14</th>\n",
              "      <td>PAY_AMT4</td>\n",
              "      <td>79.640021</td>\n",
              "      <td>4.774112e-19</td>\n",
              "    </tr>\n",
              "    <tr>\n",
              "      <th>1</th>\n",
              "      <td>EDUCATION</td>\n",
              "      <td>32.637768</td>\n",
              "      <td>1.122175e-08</td>\n",
              "    </tr>\n",
              "    <tr>\n",
              "      <th>2</th>\n",
              "      <td>MARRIAGE</td>\n",
              "      <td>18.078027</td>\n",
              "      <td>2.127555e-05</td>\n",
              "    </tr>\n",
              "    <tr>\n",
              "      <th>5</th>\n",
              "      <td>BILL_AMT1</td>\n",
              "      <td>11.218406</td>\n",
              "      <td>8.110226e-04</td>\n",
              "    </tr>\n",
              "    <tr>\n",
              "      <th>7</th>\n",
              "      <td>BILL_AMT3</td>\n",
              "      <td>5.722938</td>\n",
              "      <td>1.675157e-02</td>\n",
              "    </tr>\n",
              "    <tr>\n",
              "      <th>6</th>\n",
              "      <td>BILL_AMT2</td>\n",
              "      <td>5.668454</td>\n",
              "      <td>1.727965e-02</td>\n",
              "    </tr>\n",
              "    <tr>\n",
              "      <th>3</th>\n",
              "      <td>AGE</td>\n",
              "      <td>5.479140</td>\n",
              "      <td>1.925206e-02</td>\n",
              "    </tr>\n",
              "    <tr>\n",
              "      <th>8</th>\n",
              "      <td>BILL_AMT4</td>\n",
              "      <td>3.434740</td>\n",
              "      <td>6.384965e-02</td>\n",
              "    </tr>\n",
              "    <tr>\n",
              "      <th>9</th>\n",
              "      <td>BILL_AMT5</td>\n",
              "      <td>1.216082</td>\n",
              "      <td>2.701409e-01</td>\n",
              "    </tr>\n",
              "    <tr>\n",
              "      <th>10</th>\n",
              "      <td>BILL_AMT6</td>\n",
              "      <td>1.049561</td>\n",
              "      <td>3.056176e-01</td>\n",
              "    </tr>\n",
              "  </tbody>\n",
              "</table>\n",
              "</div>\n",
              "      <button class=\"colab-df-convert\" onclick=\"convertToInteractive('df-97a9fc01-6114-4404-b136-7cabbc3355c0')\"\n",
              "              title=\"Convert this dataframe to an interactive table.\"\n",
              "              style=\"display:none;\">\n",
              "        \n",
              "  <svg xmlns=\"http://www.w3.org/2000/svg\" height=\"24px\"viewBox=\"0 0 24 24\"\n",
              "       width=\"24px\">\n",
              "    <path d=\"M0 0h24v24H0V0z\" fill=\"none\"/>\n",
              "    <path d=\"M18.56 5.44l.94 2.06.94-2.06 2.06-.94-2.06-.94-.94-2.06-.94 2.06-2.06.94zm-11 1L8.5 8.5l.94-2.06 2.06-.94-2.06-.94L8.5 2.5l-.94 2.06-2.06.94zm10 10l.94 2.06.94-2.06 2.06-.94-2.06-.94-.94-2.06-.94 2.06-2.06.94z\"/><path d=\"M17.41 7.96l-1.37-1.37c-.4-.4-.92-.59-1.43-.59-.52 0-1.04.2-1.43.59L10.3 9.45l-7.72 7.72c-.78.78-.78 2.05 0 2.83L4 21.41c.39.39.9.59 1.41.59.51 0 1.02-.2 1.41-.59l7.78-7.78 2.81-2.81c.8-.78.8-2.07 0-2.86zM5.41 20L4 18.59l7.72-7.72 1.47 1.35L5.41 20z\"/>\n",
              "  </svg>\n",
              "      </button>\n",
              "      \n",
              "  <style>\n",
              "    .colab-df-container {\n",
              "      display:flex;\n",
              "      flex-wrap:wrap;\n",
              "      gap: 12px;\n",
              "    }\n",
              "\n",
              "    .colab-df-convert {\n",
              "      background-color: #E8F0FE;\n",
              "      border: none;\n",
              "      border-radius: 50%;\n",
              "      cursor: pointer;\n",
              "      display: none;\n",
              "      fill: #1967D2;\n",
              "      height: 32px;\n",
              "      padding: 0 0 0 0;\n",
              "      width: 32px;\n",
              "    }\n",
              "\n",
              "    .colab-df-convert:hover {\n",
              "      background-color: #E2EBFA;\n",
              "      box-shadow: 0px 1px 2px rgba(60, 64, 67, 0.3), 0px 1px 3px 1px rgba(60, 64, 67, 0.15);\n",
              "      fill: #174EA6;\n",
              "    }\n",
              "\n",
              "    [theme=dark] .colab-df-convert {\n",
              "      background-color: #3B4455;\n",
              "      fill: #D2E3FC;\n",
              "    }\n",
              "\n",
              "    [theme=dark] .colab-df-convert:hover {\n",
              "      background-color: #434B5C;\n",
              "      box-shadow: 0px 1px 3px 1px rgba(0, 0, 0, 0.15);\n",
              "      filter: drop-shadow(0px 1px 2px rgba(0, 0, 0, 0.3));\n",
              "      fill: #FFFFFF;\n",
              "    }\n",
              "  </style>\n",
              "\n",
              "      <script>\n",
              "        const buttonEl =\n",
              "          document.querySelector('#df-97a9fc01-6114-4404-b136-7cabbc3355c0 button.colab-df-convert');\n",
              "        buttonEl.style.display =\n",
              "          google.colab.kernel.accessAllowed ? 'block' : 'none';\n",
              "\n",
              "        async function convertToInteractive(key) {\n",
              "          const element = document.querySelector('#df-97a9fc01-6114-4404-b136-7cabbc3355c0');\n",
              "          const dataTable =\n",
              "            await google.colab.kernel.invokeFunction('convertToInteractive',\n",
              "                                                     [key], {});\n",
              "          if (!dataTable) return;\n",
              "\n",
              "          const docLinkHtml = 'Like what you see? Visit the ' +\n",
              "            '<a target=\"_blank\" href=https://colab.research.google.com/notebooks/data_table.ipynb>data table notebook</a>'\n",
              "            + ' to learn more about interactive tables.';\n",
              "          element.innerHTML = '';\n",
              "          dataTable['output_type'] = 'display_data';\n",
              "          await google.colab.output.renderOutput(dataTable, element);\n",
              "          const docLink = document.createElement('div');\n",
              "          docLink.innerHTML = docLinkHtml;\n",
              "          element.appendChild(docLink);\n",
              "        }\n",
              "      </script>\n",
              "    </div>\n",
              "  </div>\n",
              "  "
            ]
          },
          "metadata": {},
          "execution_count": 22
        }
      ]
    },
    {
      "cell_type": "code",
      "source": [
        "from sklearn.feature_selection import SelectPercentile"
      ],
      "metadata": {
        "id": "VDqMBeUiYugl"
      },
      "execution_count": 23,
      "outputs": []
    },
    {
      "cell_type": "code",
      "source": [
        "selector = SelectPercentile(f_classif, percentile=20)"
      ],
      "metadata": {
        "id": "dFZYTzRWmh52"
      },
      "execution_count": 24,
      "outputs": []
    },
    {
      "cell_type": "code",
      "source": [
        "selector.fit(X, y)"
      ],
      "metadata": {
        "colab": {
          "base_uri": "https://localhost:8080/"
        },
        "id": "EqgiSs2Emp-U",
        "outputId": "d7471816-c594-45e3-f5c0-cbd722965fbf"
      },
      "execution_count": 25,
      "outputs": [
        {
          "output_type": "execute_result",
          "data": {
            "text/plain": [
              "SelectPercentile(percentile=20)"
            ]
          },
          "metadata": {},
          "execution_count": 25
        }
      ]
    },
    {
      "cell_type": "code",
      "source": [
        "best_feature_ix = selector.get_support()\n",
        "best_feature_ix"
      ],
      "metadata": {
        "colab": {
          "base_uri": "https://localhost:8080/"
        },
        "id": "fkFJ9nbSmrN9",
        "outputId": "de42a81f-6a9a-4ff3-a325-814a12e4ac03"
      },
      "execution_count": 26,
      "outputs": [
        {
          "output_type": "execute_result",
          "data": {
            "text/plain": [
              "array([ True, False, False, False,  True, False, False, False, False,\n",
              "       False, False,  True,  True, False, False, False, False])"
            ]
          },
          "metadata": {},
          "execution_count": 26
        }
      ]
    },
    {
      "cell_type": "code",
      "source": [
        "features = features_response[:-1]"
      ],
      "metadata": {
        "id": "1VJvr4kDmvtk"
      },
      "execution_count": 27,
      "outputs": []
    },
    {
      "cell_type": "code",
      "source": [
        "best_features = [features[counter]\n",
        "                 for counter in range(len(features))\n",
        "                 if best_feature_ix[counter]]"
      ],
      "metadata": {
        "id": "yjgBeDbpm3ad"
      },
      "execution_count": 28,
      "outputs": []
    },
    {
      "cell_type": "code",
      "source": [
        "best_features"
      ],
      "metadata": {
        "colab": {
          "base_uri": "https://localhost:8080/"
        },
        "id": "p-5WEDnKnGEd",
        "outputId": "038d6d03-602a-47dc-c057-fc8aa50e678e"
      },
      "execution_count": 29,
      "outputs": [
        {
          "output_type": "execute_result",
          "data": {
            "text/plain": [
              "['LIMIT_BAL', 'PAY_1', 'PAY_AMT1', 'PAY_AMT2']"
            ]
          },
          "metadata": {},
          "execution_count": 29
        }
      ]
    },
    {
      "cell_type": "code",
      "source": [],
      "metadata": {
        "id": "fVHXQqp5nI0s"
      },
      "execution_count": null,
      "outputs": []
    }
  ]
}